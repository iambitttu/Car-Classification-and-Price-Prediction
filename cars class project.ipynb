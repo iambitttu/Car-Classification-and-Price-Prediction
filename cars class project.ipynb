{
 "cells": [
  {
   "cell_type": "code",
   "execution_count": 1,
   "id": "af89ba4a",
   "metadata": {},
   "outputs": [],
   "source": [
    "# Importing necessary library."
   ]
  },
  {
   "cell_type": "code",
   "execution_count": 2,
   "id": "515963e0",
   "metadata": {},
   "outputs": [],
   "source": [
    "from sklearn import linear_model\n",
    "import matplotlib.pyplot as plt\n",
    "import seaborn as sns\n",
    "import pandas as pd"
   ]
  },
  {
   "cell_type": "code",
   "execution_count": 3,
   "id": "be643c52",
   "metadata": {},
   "outputs": [],
   "source": [
    "# Load the dataset."
   ]
  },
  {
   "cell_type": "code",
   "execution_count": 4,
   "id": "e295d8df",
   "metadata": {},
   "outputs": [],
   "source": [
    "data = pd.read_csv('cars_class.csv')"
   ]
  },
  {
   "cell_type": "code",
   "execution_count": 5,
   "id": "e13bfd1a",
   "metadata": {},
   "outputs": [
    {
     "data": {
      "text/plain": [
       "(719, 20)"
      ]
     },
     "execution_count": 5,
     "metadata": {},
     "output_type": "execute_result"
    }
   ],
   "source": [
    "data.shape"
   ]
  },
  {
   "cell_type": "code",
   "execution_count": 6,
   "id": "fe143f34",
   "metadata": {},
   "outputs": [
    {
     "data": {
      "text/html": [
       "<div>\n",
       "<style scoped>\n",
       "    .dataframe tbody tr th:only-of-type {\n",
       "        vertical-align: middle;\n",
       "    }\n",
       "\n",
       "    .dataframe tbody tr th {\n",
       "        vertical-align: top;\n",
       "    }\n",
       "\n",
       "    .dataframe thead th {\n",
       "        text-align: right;\n",
       "    }\n",
       "</style>\n",
       "<table border=\"1\" class=\"dataframe\">\n",
       "  <thead>\n",
       "    <tr style=\"text-align: right;\">\n",
       "      <th></th>\n",
       "      <th>ID</th>\n",
       "      <th>Comp</th>\n",
       "      <th>Circ</th>\n",
       "      <th>D.Circ</th>\n",
       "      <th>Rad.Ra</th>\n",
       "      <th>Pr.Axis.Ra</th>\n",
       "      <th>Max.L.Ra</th>\n",
       "      <th>Scat.Ra</th>\n",
       "      <th>Elong</th>\n",
       "      <th>Pr.Axis.Rect</th>\n",
       "      <th>Max.L.Rect</th>\n",
       "      <th>Sc.Var.Maxis</th>\n",
       "      <th>Sc.Var.maxis</th>\n",
       "      <th>Ra.Gyr</th>\n",
       "      <th>Skew.Maxis</th>\n",
       "      <th>Skew.maxis</th>\n",
       "      <th>Kurt.maxis</th>\n",
       "      <th>Kurt.Maxis</th>\n",
       "      <th>Holl.Ra</th>\n",
       "      <th>Class</th>\n",
       "    </tr>\n",
       "  </thead>\n",
       "  <tbody>\n",
       "    <tr>\n",
       "      <th>0</th>\n",
       "      <td>1</td>\n",
       "      <td>88</td>\n",
       "      <td>39</td>\n",
       "      <td>70</td>\n",
       "      <td>166</td>\n",
       "      <td>66</td>\n",
       "      <td>7</td>\n",
       "      <td>148</td>\n",
       "      <td>44</td>\n",
       "      <td>19</td>\n",
       "      <td>134</td>\n",
       "      <td>167</td>\n",
       "      <td>332</td>\n",
       "      <td>143</td>\n",
       "      <td>69</td>\n",
       "      <td>5</td>\n",
       "      <td>13</td>\n",
       "      <td>193</td>\n",
       "      <td>201</td>\n",
       "      <td>0</td>\n",
       "    </tr>\n",
       "    <tr>\n",
       "      <th>1</th>\n",
       "      <td>2</td>\n",
       "      <td>85</td>\n",
       "      <td>35</td>\n",
       "      <td>64</td>\n",
       "      <td>129</td>\n",
       "      <td>57</td>\n",
       "      <td>6</td>\n",
       "      <td>116</td>\n",
       "      <td>57</td>\n",
       "      <td>17</td>\n",
       "      <td>125</td>\n",
       "      <td>138</td>\n",
       "      <td>200</td>\n",
       "      <td>123</td>\n",
       "      <td>65</td>\n",
       "      <td>1</td>\n",
       "      <td>23</td>\n",
       "      <td>196</td>\n",
       "      <td>203</td>\n",
       "      <td>3</td>\n",
       "    </tr>\n",
       "    <tr>\n",
       "      <th>2</th>\n",
       "      <td>3</td>\n",
       "      <td>91</td>\n",
       "      <td>41</td>\n",
       "      <td>84</td>\n",
       "      <td>141</td>\n",
       "      <td>57</td>\n",
       "      <td>9</td>\n",
       "      <td>149</td>\n",
       "      <td>45</td>\n",
       "      <td>19</td>\n",
       "      <td>143</td>\n",
       "      <td>170</td>\n",
       "      <td>330</td>\n",
       "      <td>158</td>\n",
       "      <td>72</td>\n",
       "      <td>9</td>\n",
       "      <td>14</td>\n",
       "      <td>189</td>\n",
       "      <td>199</td>\n",
       "      <td>3</td>\n",
       "    </tr>\n",
       "    <tr>\n",
       "      <th>3</th>\n",
       "      <td>4</td>\n",
       "      <td>102</td>\n",
       "      <td>54</td>\n",
       "      <td>98</td>\n",
       "      <td>177</td>\n",
       "      <td>56</td>\n",
       "      <td>10</td>\n",
       "      <td>219</td>\n",
       "      <td>31</td>\n",
       "      <td>25</td>\n",
       "      <td>171</td>\n",
       "      <td>219</td>\n",
       "      <td>706</td>\n",
       "      <td>223</td>\n",
       "      <td>72</td>\n",
       "      <td>5</td>\n",
       "      <td>17</td>\n",
       "      <td>186</td>\n",
       "      <td>196</td>\n",
       "      <td>1</td>\n",
       "    </tr>\n",
       "    <tr>\n",
       "      <th>4</th>\n",
       "      <td>5</td>\n",
       "      <td>87</td>\n",
       "      <td>39</td>\n",
       "      <td>74</td>\n",
       "      <td>152</td>\n",
       "      <td>58</td>\n",
       "      <td>6</td>\n",
       "      <td>151</td>\n",
       "      <td>44</td>\n",
       "      <td>19</td>\n",
       "      <td>136</td>\n",
       "      <td>174</td>\n",
       "      <td>337</td>\n",
       "      <td>140</td>\n",
       "      <td>70</td>\n",
       "      <td>1</td>\n",
       "      <td>33</td>\n",
       "      <td>187</td>\n",
       "      <td>196</td>\n",
       "      <td>2</td>\n",
       "    </tr>\n",
       "  </tbody>\n",
       "</table>\n",
       "</div>"
      ],
      "text/plain": [
       "   ID  Comp  Circ  D.Circ  Rad.Ra  Pr.Axis.Ra  Max.L.Ra  Scat.Ra  Elong  \\\n",
       "0   1    88    39      70     166          66         7      148     44   \n",
       "1   2    85    35      64     129          57         6      116     57   \n",
       "2   3    91    41      84     141          57         9      149     45   \n",
       "3   4   102    54      98     177          56        10      219     31   \n",
       "4   5    87    39      74     152          58         6      151     44   \n",
       "\n",
       "   Pr.Axis.Rect  Max.L.Rect  Sc.Var.Maxis  Sc.Var.maxis  Ra.Gyr  Skew.Maxis  \\\n",
       "0            19         134           167           332     143          69   \n",
       "1            17         125           138           200     123          65   \n",
       "2            19         143           170           330     158          72   \n",
       "3            25         171           219           706     223          72   \n",
       "4            19         136           174           337     140          70   \n",
       "\n",
       "   Skew.maxis  Kurt.maxis  Kurt.Maxis  Holl.Ra  Class  \n",
       "0           5          13         193      201      0  \n",
       "1           1          23         196      203      3  \n",
       "2           9          14         189      199      3  \n",
       "3           5          17         186      196      1  \n",
       "4           1          33         187      196      2  "
      ]
     },
     "execution_count": 6,
     "metadata": {},
     "output_type": "execute_result"
    }
   ],
   "source": [
    "data.head()"
   ]
  },
  {
   "cell_type": "code",
   "execution_count": 7,
   "id": "61095eb4",
   "metadata": {},
   "outputs": [
    {
     "name": "stdout",
     "output_type": "stream",
     "text": [
      "<class 'pandas.core.frame.DataFrame'>\n",
      "RangeIndex: 719 entries, 0 to 718\n",
      "Data columns (total 20 columns):\n",
      " #   Column        Non-Null Count  Dtype\n",
      "---  ------        --------------  -----\n",
      " 0   ID            719 non-null    int64\n",
      " 1   Comp          719 non-null    int64\n",
      " 2   Circ          719 non-null    int64\n",
      " 3   D.Circ        719 non-null    int64\n",
      " 4   Rad.Ra        719 non-null    int64\n",
      " 5   Pr.Axis.Ra    719 non-null    int64\n",
      " 6   Max.L.Ra      719 non-null    int64\n",
      " 7   Scat.Ra       719 non-null    int64\n",
      " 8   Elong         719 non-null    int64\n",
      " 9   Pr.Axis.Rect  719 non-null    int64\n",
      " 10  Max.L.Rect    719 non-null    int64\n",
      " 11  Sc.Var.Maxis  719 non-null    int64\n",
      " 12  Sc.Var.maxis  719 non-null    int64\n",
      " 13  Ra.Gyr        719 non-null    int64\n",
      " 14  Skew.Maxis    719 non-null    int64\n",
      " 15  Skew.maxis    719 non-null    int64\n",
      " 16  Kurt.maxis    719 non-null    int64\n",
      " 17  Kurt.Maxis    719 non-null    int64\n",
      " 18  Holl.Ra       719 non-null    int64\n",
      " 19  Class         719 non-null    int64\n",
      "dtypes: int64(20)\n",
      "memory usage: 112.5 KB\n"
     ]
    }
   ],
   "source": [
    "data.info()"
   ]
  },
  {
   "cell_type": "code",
   "execution_count": 8,
   "id": "ff93204d",
   "metadata": {},
   "outputs": [
    {
     "data": {
      "text/html": [
       "<div>\n",
       "<style scoped>\n",
       "    .dataframe tbody tr th:only-of-type {\n",
       "        vertical-align: middle;\n",
       "    }\n",
       "\n",
       "    .dataframe tbody tr th {\n",
       "        vertical-align: top;\n",
       "    }\n",
       "\n",
       "    .dataframe thead th {\n",
       "        text-align: right;\n",
       "    }\n",
       "</style>\n",
       "<table border=\"1\" class=\"dataframe\">\n",
       "  <thead>\n",
       "    <tr style=\"text-align: right;\">\n",
       "      <th></th>\n",
       "      <th>ID</th>\n",
       "      <th>Comp</th>\n",
       "      <th>Circ</th>\n",
       "      <th>D.Circ</th>\n",
       "      <th>Rad.Ra</th>\n",
       "      <th>Pr.Axis.Ra</th>\n",
       "      <th>Max.L.Ra</th>\n",
       "      <th>Scat.Ra</th>\n",
       "      <th>Elong</th>\n",
       "      <th>Pr.Axis.Rect</th>\n",
       "      <th>Max.L.Rect</th>\n",
       "      <th>Sc.Var.Maxis</th>\n",
       "      <th>Sc.Var.maxis</th>\n",
       "      <th>Ra.Gyr</th>\n",
       "      <th>Skew.Maxis</th>\n",
       "      <th>Skew.maxis</th>\n",
       "      <th>Kurt.maxis</th>\n",
       "      <th>Kurt.Maxis</th>\n",
       "      <th>Holl.Ra</th>\n",
       "      <th>Class</th>\n",
       "    </tr>\n",
       "  </thead>\n",
       "  <tbody>\n",
       "    <tr>\n",
       "      <th>count</th>\n",
       "      <td>719.000000</td>\n",
       "      <td>719.000000</td>\n",
       "      <td>719.000000</td>\n",
       "      <td>719.000000</td>\n",
       "      <td>719.000000</td>\n",
       "      <td>719.000000</td>\n",
       "      <td>719.000000</td>\n",
       "      <td>719.000000</td>\n",
       "      <td>719.000000</td>\n",
       "      <td>719.000000</td>\n",
       "      <td>719.000000</td>\n",
       "      <td>719.000000</td>\n",
       "      <td>719.000000</td>\n",
       "      <td>719.000000</td>\n",
       "      <td>719.000000</td>\n",
       "      <td>719.000000</td>\n",
       "      <td>719.000000</td>\n",
       "      <td>719.000000</td>\n",
       "      <td>719.000000</td>\n",
       "      <td>719.000000</td>\n",
       "    </tr>\n",
       "    <tr>\n",
       "      <th>mean</th>\n",
       "      <td>360.000000</td>\n",
       "      <td>93.435327</td>\n",
       "      <td>44.851182</td>\n",
       "      <td>81.723227</td>\n",
       "      <td>168.579972</td>\n",
       "      <td>61.847010</td>\n",
       "      <td>8.625869</td>\n",
       "      <td>168.137691</td>\n",
       "      <td>41.075104</td>\n",
       "      <td>20.531293</td>\n",
       "      <td>148.030598</td>\n",
       "      <td>188.168289</td>\n",
       "      <td>436.215577</td>\n",
       "      <td>174.726008</td>\n",
       "      <td>72.682893</td>\n",
       "      <td>6.343533</td>\n",
       "      <td>12.394993</td>\n",
       "      <td>188.798331</td>\n",
       "      <td>195.407510</td>\n",
       "      <td>1.470097</td>\n",
       "    </tr>\n",
       "    <tr>\n",
       "      <th>std</th>\n",
       "      <td>207.701709</td>\n",
       "      <td>8.111406</td>\n",
       "      <td>6.150286</td>\n",
       "      <td>15.528208</td>\n",
       "      <td>33.809172</td>\n",
       "      <td>8.259136</td>\n",
       "      <td>4.916908</td>\n",
       "      <td>32.937591</td>\n",
       "      <td>7.764459</td>\n",
       "      <td>2.560969</td>\n",
       "      <td>14.560092</td>\n",
       "      <td>31.235395</td>\n",
       "      <td>174.964977</td>\n",
       "      <td>32.149568</td>\n",
       "      <td>7.542055</td>\n",
       "      <td>4.856169</td>\n",
       "      <td>8.742511</td>\n",
       "      <td>6.048522</td>\n",
       "      <td>7.235166</td>\n",
       "      <td>1.126477</td>\n",
       "    </tr>\n",
       "    <tr>\n",
       "      <th>min</th>\n",
       "      <td>1.000000</td>\n",
       "      <td>73.000000</td>\n",
       "      <td>33.000000</td>\n",
       "      <td>40.000000</td>\n",
       "      <td>105.000000</td>\n",
       "      <td>47.000000</td>\n",
       "      <td>2.000000</td>\n",
       "      <td>112.000000</td>\n",
       "      <td>26.000000</td>\n",
       "      <td>17.000000</td>\n",
       "      <td>118.000000</td>\n",
       "      <td>130.000000</td>\n",
       "      <td>184.000000</td>\n",
       "      <td>109.000000</td>\n",
       "      <td>59.000000</td>\n",
       "      <td>0.000000</td>\n",
       "      <td>0.000000</td>\n",
       "      <td>176.000000</td>\n",
       "      <td>181.000000</td>\n",
       "      <td>0.000000</td>\n",
       "    </tr>\n",
       "    <tr>\n",
       "      <th>25%</th>\n",
       "      <td>180.500000</td>\n",
       "      <td>87.000000</td>\n",
       "      <td>40.000000</td>\n",
       "      <td>70.000000</td>\n",
       "      <td>141.000000</td>\n",
       "      <td>57.000000</td>\n",
       "      <td>6.000000</td>\n",
       "      <td>146.000000</td>\n",
       "      <td>33.000000</td>\n",
       "      <td>19.000000</td>\n",
       "      <td>137.000000</td>\n",
       "      <td>167.000000</td>\n",
       "      <td>317.000000</td>\n",
       "      <td>149.000000</td>\n",
       "      <td>68.000000</td>\n",
       "      <td>2.000000</td>\n",
       "      <td>5.500000</td>\n",
       "      <td>184.000000</td>\n",
       "      <td>190.000000</td>\n",
       "      <td>0.000000</td>\n",
       "    </tr>\n",
       "    <tr>\n",
       "      <th>50%</th>\n",
       "      <td>360.000000</td>\n",
       "      <td>93.000000</td>\n",
       "      <td>44.000000</td>\n",
       "      <td>79.000000</td>\n",
       "      <td>166.000000</td>\n",
       "      <td>61.000000</td>\n",
       "      <td>8.000000</td>\n",
       "      <td>157.000000</td>\n",
       "      <td>43.000000</td>\n",
       "      <td>20.000000</td>\n",
       "      <td>146.000000</td>\n",
       "      <td>178.000000</td>\n",
       "      <td>362.000000</td>\n",
       "      <td>174.000000</td>\n",
       "      <td>72.000000</td>\n",
       "      <td>6.000000</td>\n",
       "      <td>11.000000</td>\n",
       "      <td>188.000000</td>\n",
       "      <td>196.000000</td>\n",
       "      <td>1.000000</td>\n",
       "    </tr>\n",
       "    <tr>\n",
       "      <th>75%</th>\n",
       "      <td>539.500000</td>\n",
       "      <td>99.000000</td>\n",
       "      <td>49.000000</td>\n",
       "      <td>96.000000</td>\n",
       "      <td>194.500000</td>\n",
       "      <td>65.000000</td>\n",
       "      <td>10.000000</td>\n",
       "      <td>197.500000</td>\n",
       "      <td>46.000000</td>\n",
       "      <td>23.000000</td>\n",
       "      <td>159.000000</td>\n",
       "      <td>216.000000</td>\n",
       "      <td>584.500000</td>\n",
       "      <td>198.000000</td>\n",
       "      <td>76.000000</td>\n",
       "      <td>9.000000</td>\n",
       "      <td>18.000000</td>\n",
       "      <td>193.000000</td>\n",
       "      <td>201.000000</td>\n",
       "      <td>2.000000</td>\n",
       "    </tr>\n",
       "    <tr>\n",
       "      <th>max</th>\n",
       "      <td>719.000000</td>\n",
       "      <td>119.000000</td>\n",
       "      <td>59.000000</td>\n",
       "      <td>110.000000</td>\n",
       "      <td>333.000000</td>\n",
       "      <td>138.000000</td>\n",
       "      <td>55.000000</td>\n",
       "      <td>265.000000</td>\n",
       "      <td>61.000000</td>\n",
       "      <td>29.000000</td>\n",
       "      <td>188.000000</td>\n",
       "      <td>320.000000</td>\n",
       "      <td>1018.000000</td>\n",
       "      <td>262.000000</td>\n",
       "      <td>135.000000</td>\n",
       "      <td>22.000000</td>\n",
       "      <td>41.000000</td>\n",
       "      <td>204.000000</td>\n",
       "      <td>211.000000</td>\n",
       "      <td>3.000000</td>\n",
       "    </tr>\n",
       "  </tbody>\n",
       "</table>\n",
       "</div>"
      ],
      "text/plain": [
       "               ID        Comp        Circ      D.Circ      Rad.Ra  Pr.Axis.Ra  \\\n",
       "count  719.000000  719.000000  719.000000  719.000000  719.000000  719.000000   \n",
       "mean   360.000000   93.435327   44.851182   81.723227  168.579972   61.847010   \n",
       "std    207.701709    8.111406    6.150286   15.528208   33.809172    8.259136   \n",
       "min      1.000000   73.000000   33.000000   40.000000  105.000000   47.000000   \n",
       "25%    180.500000   87.000000   40.000000   70.000000  141.000000   57.000000   \n",
       "50%    360.000000   93.000000   44.000000   79.000000  166.000000   61.000000   \n",
       "75%    539.500000   99.000000   49.000000   96.000000  194.500000   65.000000   \n",
       "max    719.000000  119.000000   59.000000  110.000000  333.000000  138.000000   \n",
       "\n",
       "         Max.L.Ra     Scat.Ra       Elong  Pr.Axis.Rect  Max.L.Rect  \\\n",
       "count  719.000000  719.000000  719.000000    719.000000  719.000000   \n",
       "mean     8.625869  168.137691   41.075104     20.531293  148.030598   \n",
       "std      4.916908   32.937591    7.764459      2.560969   14.560092   \n",
       "min      2.000000  112.000000   26.000000     17.000000  118.000000   \n",
       "25%      6.000000  146.000000   33.000000     19.000000  137.000000   \n",
       "50%      8.000000  157.000000   43.000000     20.000000  146.000000   \n",
       "75%     10.000000  197.500000   46.000000     23.000000  159.000000   \n",
       "max     55.000000  265.000000   61.000000     29.000000  188.000000   \n",
       "\n",
       "       Sc.Var.Maxis  Sc.Var.maxis      Ra.Gyr  Skew.Maxis  Skew.maxis  \\\n",
       "count    719.000000    719.000000  719.000000  719.000000  719.000000   \n",
       "mean     188.168289    436.215577  174.726008   72.682893    6.343533   \n",
       "std       31.235395    174.964977   32.149568    7.542055    4.856169   \n",
       "min      130.000000    184.000000  109.000000   59.000000    0.000000   \n",
       "25%      167.000000    317.000000  149.000000   68.000000    2.000000   \n",
       "50%      178.000000    362.000000  174.000000   72.000000    6.000000   \n",
       "75%      216.000000    584.500000  198.000000   76.000000    9.000000   \n",
       "max      320.000000   1018.000000  262.000000  135.000000   22.000000   \n",
       "\n",
       "       Kurt.maxis  Kurt.Maxis     Holl.Ra       Class  \n",
       "count  719.000000  719.000000  719.000000  719.000000  \n",
       "mean    12.394993  188.798331  195.407510    1.470097  \n",
       "std      8.742511    6.048522    7.235166    1.126477  \n",
       "min      0.000000  176.000000  181.000000    0.000000  \n",
       "25%      5.500000  184.000000  190.000000    0.000000  \n",
       "50%     11.000000  188.000000  196.000000    1.000000  \n",
       "75%     18.000000  193.000000  201.000000    2.000000  \n",
       "max     41.000000  204.000000  211.000000    3.000000  "
      ]
     },
     "execution_count": 8,
     "metadata": {},
     "output_type": "execute_result"
    }
   ],
   "source": [
    "data.describe()"
   ]
  },
  {
   "cell_type": "code",
   "execution_count": 9,
   "id": "67ebd2ef",
   "metadata": {},
   "outputs": [
    {
     "data": {
      "text/plain": [
       "ID              719\n",
       "Comp             43\n",
       "Circ             27\n",
       "D.Circ           60\n",
       "Rad.Ra          132\n",
       "Pr.Axis.Ra       37\n",
       "Max.L.Ra         21\n",
       "Scat.Ra         125\n",
       "Elong            35\n",
       "Pr.Axis.Rect     13\n",
       "Max.L.Rect       66\n",
       "Sc.Var.Maxis    124\n",
       "Sc.Var.maxis    380\n",
       "Ra.Gyr          138\n",
       "Skew.Maxis       39\n",
       "Skew.maxis       23\n",
       "Kurt.maxis       38\n",
       "Kurt.Maxis       29\n",
       "Holl.Ra          31\n",
       "Class             4\n",
       "dtype: int64"
      ]
     },
     "execution_count": 9,
     "metadata": {},
     "output_type": "execute_result"
    }
   ],
   "source": [
    "data.nunique()"
   ]
  },
  {
   "cell_type": "code",
   "execution_count": 10,
   "id": "b50781e5",
   "metadata": {},
   "outputs": [
    {
     "data": {
      "text/plain": [
       "ID              0\n",
       "Comp            0\n",
       "Circ            0\n",
       "D.Circ          0\n",
       "Rad.Ra          0\n",
       "Pr.Axis.Ra      0\n",
       "Max.L.Ra        0\n",
       "Scat.Ra         0\n",
       "Elong           0\n",
       "Pr.Axis.Rect    0\n",
       "Max.L.Rect      0\n",
       "Sc.Var.Maxis    0\n",
       "Sc.Var.maxis    0\n",
       "Ra.Gyr          0\n",
       "Skew.Maxis      0\n",
       "Skew.maxis      0\n",
       "Kurt.maxis      0\n",
       "Kurt.Maxis      0\n",
       "Holl.Ra         0\n",
       "Class           0\n",
       "dtype: int64"
      ]
     },
     "execution_count": 10,
     "metadata": {},
     "output_type": "execute_result"
    }
   ],
   "source": [
    "data.isnull().sum()"
   ]
  },
  {
   "cell_type": "code",
   "execution_count": 11,
   "id": "7bff30ad",
   "metadata": {},
   "outputs": [
    {
     "data": {
      "text/plain": [
       "array([0, 3, 1, 2], dtype=int64)"
      ]
     },
     "execution_count": 11,
     "metadata": {},
     "output_type": "execute_result"
    }
   ],
   "source": [
    "data['Class'].unique()"
   ]
  },
  {
   "cell_type": "code",
   "execution_count": 12,
   "id": "284282a1",
   "metadata": {},
   "outputs": [
    {
     "data": {
      "text/plain": [
       "0    189\n",
       "1    180\n",
       "3    177\n",
       "2    173\n",
       "Name: Class, dtype: int64"
      ]
     },
     "execution_count": 12,
     "metadata": {},
     "output_type": "execute_result"
    }
   ],
   "source": [
    "data.Class.value_counts()"
   ]
  },
  {
   "cell_type": "code",
   "execution_count": 13,
   "id": "e23522ad",
   "metadata": {},
   "outputs": [],
   "source": [
    "df = data.drop(['Class', 'ID', 'Sc.Var.maxis'], axis = 'columns')"
   ]
  },
  {
   "cell_type": "code",
   "execution_count": 14,
   "id": "a04518b3",
   "metadata": {},
   "outputs": [
    {
     "data": {
      "text/html": [
       "<div>\n",
       "<style scoped>\n",
       "    .dataframe tbody tr th:only-of-type {\n",
       "        vertical-align: middle;\n",
       "    }\n",
       "\n",
       "    .dataframe tbody tr th {\n",
       "        vertical-align: top;\n",
       "    }\n",
       "\n",
       "    .dataframe thead th {\n",
       "        text-align: right;\n",
       "    }\n",
       "</style>\n",
       "<table border=\"1\" class=\"dataframe\">\n",
       "  <thead>\n",
       "    <tr style=\"text-align: right;\">\n",
       "      <th></th>\n",
       "      <th>Comp</th>\n",
       "      <th>Circ</th>\n",
       "      <th>D.Circ</th>\n",
       "      <th>Rad.Ra</th>\n",
       "      <th>Pr.Axis.Ra</th>\n",
       "      <th>Max.L.Ra</th>\n",
       "      <th>Scat.Ra</th>\n",
       "      <th>Elong</th>\n",
       "      <th>Pr.Axis.Rect</th>\n",
       "      <th>Max.L.Rect</th>\n",
       "      <th>Sc.Var.Maxis</th>\n",
       "      <th>Ra.Gyr</th>\n",
       "      <th>Skew.Maxis</th>\n",
       "      <th>Skew.maxis</th>\n",
       "      <th>Kurt.maxis</th>\n",
       "      <th>Kurt.Maxis</th>\n",
       "      <th>Holl.Ra</th>\n",
       "    </tr>\n",
       "  </thead>\n",
       "  <tbody>\n",
       "    <tr>\n",
       "      <th>0</th>\n",
       "      <td>88</td>\n",
       "      <td>39</td>\n",
       "      <td>70</td>\n",
       "      <td>166</td>\n",
       "      <td>66</td>\n",
       "      <td>7</td>\n",
       "      <td>148</td>\n",
       "      <td>44</td>\n",
       "      <td>19</td>\n",
       "      <td>134</td>\n",
       "      <td>167</td>\n",
       "      <td>143</td>\n",
       "      <td>69</td>\n",
       "      <td>5</td>\n",
       "      <td>13</td>\n",
       "      <td>193</td>\n",
       "      <td>201</td>\n",
       "    </tr>\n",
       "    <tr>\n",
       "      <th>1</th>\n",
       "      <td>85</td>\n",
       "      <td>35</td>\n",
       "      <td>64</td>\n",
       "      <td>129</td>\n",
       "      <td>57</td>\n",
       "      <td>6</td>\n",
       "      <td>116</td>\n",
       "      <td>57</td>\n",
       "      <td>17</td>\n",
       "      <td>125</td>\n",
       "      <td>138</td>\n",
       "      <td>123</td>\n",
       "      <td>65</td>\n",
       "      <td>1</td>\n",
       "      <td>23</td>\n",
       "      <td>196</td>\n",
       "      <td>203</td>\n",
       "    </tr>\n",
       "    <tr>\n",
       "      <th>2</th>\n",
       "      <td>91</td>\n",
       "      <td>41</td>\n",
       "      <td>84</td>\n",
       "      <td>141</td>\n",
       "      <td>57</td>\n",
       "      <td>9</td>\n",
       "      <td>149</td>\n",
       "      <td>45</td>\n",
       "      <td>19</td>\n",
       "      <td>143</td>\n",
       "      <td>170</td>\n",
       "      <td>158</td>\n",
       "      <td>72</td>\n",
       "      <td>9</td>\n",
       "      <td>14</td>\n",
       "      <td>189</td>\n",
       "      <td>199</td>\n",
       "    </tr>\n",
       "    <tr>\n",
       "      <th>3</th>\n",
       "      <td>102</td>\n",
       "      <td>54</td>\n",
       "      <td>98</td>\n",
       "      <td>177</td>\n",
       "      <td>56</td>\n",
       "      <td>10</td>\n",
       "      <td>219</td>\n",
       "      <td>31</td>\n",
       "      <td>25</td>\n",
       "      <td>171</td>\n",
       "      <td>219</td>\n",
       "      <td>223</td>\n",
       "      <td>72</td>\n",
       "      <td>5</td>\n",
       "      <td>17</td>\n",
       "      <td>186</td>\n",
       "      <td>196</td>\n",
       "    </tr>\n",
       "    <tr>\n",
       "      <th>4</th>\n",
       "      <td>87</td>\n",
       "      <td>39</td>\n",
       "      <td>74</td>\n",
       "      <td>152</td>\n",
       "      <td>58</td>\n",
       "      <td>6</td>\n",
       "      <td>151</td>\n",
       "      <td>44</td>\n",
       "      <td>19</td>\n",
       "      <td>136</td>\n",
       "      <td>174</td>\n",
       "      <td>140</td>\n",
       "      <td>70</td>\n",
       "      <td>1</td>\n",
       "      <td>33</td>\n",
       "      <td>187</td>\n",
       "      <td>196</td>\n",
       "    </tr>\n",
       "    <tr>\n",
       "      <th>...</th>\n",
       "      <td>...</td>\n",
       "      <td>...</td>\n",
       "      <td>...</td>\n",
       "      <td>...</td>\n",
       "      <td>...</td>\n",
       "      <td>...</td>\n",
       "      <td>...</td>\n",
       "      <td>...</td>\n",
       "      <td>...</td>\n",
       "      <td>...</td>\n",
       "      <td>...</td>\n",
       "      <td>...</td>\n",
       "      <td>...</td>\n",
       "      <td>...</td>\n",
       "      <td>...</td>\n",
       "      <td>...</td>\n",
       "      <td>...</td>\n",
       "    </tr>\n",
       "    <tr>\n",
       "      <th>714</th>\n",
       "      <td>111</td>\n",
       "      <td>58</td>\n",
       "      <td>105</td>\n",
       "      <td>183</td>\n",
       "      <td>51</td>\n",
       "      <td>6</td>\n",
       "      <td>265</td>\n",
       "      <td>26</td>\n",
       "      <td>29</td>\n",
       "      <td>174</td>\n",
       "      <td>285</td>\n",
       "      <td>255</td>\n",
       "      <td>85</td>\n",
       "      <td>4</td>\n",
       "      <td>8</td>\n",
       "      <td>181</td>\n",
       "      <td>183</td>\n",
       "    </tr>\n",
       "    <tr>\n",
       "      <th>715</th>\n",
       "      <td>93</td>\n",
       "      <td>43</td>\n",
       "      <td>76</td>\n",
       "      <td>149</td>\n",
       "      <td>57</td>\n",
       "      <td>7</td>\n",
       "      <td>149</td>\n",
       "      <td>44</td>\n",
       "      <td>19</td>\n",
       "      <td>143</td>\n",
       "      <td>172</td>\n",
       "      <td>176</td>\n",
       "      <td>69</td>\n",
       "      <td>14</td>\n",
       "      <td>0</td>\n",
       "      <td>189</td>\n",
       "      <td>194</td>\n",
       "    </tr>\n",
       "    <tr>\n",
       "      <th>716</th>\n",
       "      <td>90</td>\n",
       "      <td>42</td>\n",
       "      <td>63</td>\n",
       "      <td>144</td>\n",
       "      <td>59</td>\n",
       "      <td>7</td>\n",
       "      <td>131</td>\n",
       "      <td>50</td>\n",
       "      <td>18</td>\n",
       "      <td>142</td>\n",
       "      <td>154</td>\n",
       "      <td>162</td>\n",
       "      <td>65</td>\n",
       "      <td>15</td>\n",
       "      <td>3</td>\n",
       "      <td>197</td>\n",
       "      <td>204</td>\n",
       "    </tr>\n",
       "    <tr>\n",
       "      <th>717</th>\n",
       "      <td>101</td>\n",
       "      <td>56</td>\n",
       "      <td>101</td>\n",
       "      <td>231</td>\n",
       "      <td>72</td>\n",
       "      <td>10</td>\n",
       "      <td>217</td>\n",
       "      <td>31</td>\n",
       "      <td>24</td>\n",
       "      <td>171</td>\n",
       "      <td>232</td>\n",
       "      <td>216</td>\n",
       "      <td>72</td>\n",
       "      <td>2</td>\n",
       "      <td>6</td>\n",
       "      <td>187</td>\n",
       "      <td>197</td>\n",
       "    </tr>\n",
       "    <tr>\n",
       "      <th>718</th>\n",
       "      <td>99</td>\n",
       "      <td>38</td>\n",
       "      <td>74</td>\n",
       "      <td>184</td>\n",
       "      <td>66</td>\n",
       "      <td>6</td>\n",
       "      <td>164</td>\n",
       "      <td>39</td>\n",
       "      <td>20</td>\n",
       "      <td>131</td>\n",
       "      <td>193</td>\n",
       "      <td>137</td>\n",
       "      <td>71</td>\n",
       "      <td>2</td>\n",
       "      <td>22</td>\n",
       "      <td>200</td>\n",
       "      <td>202</td>\n",
       "    </tr>\n",
       "  </tbody>\n",
       "</table>\n",
       "<p>719 rows × 17 columns</p>\n",
       "</div>"
      ],
      "text/plain": [
       "     Comp  Circ  D.Circ  Rad.Ra  Pr.Axis.Ra  Max.L.Ra  Scat.Ra  Elong  \\\n",
       "0      88    39      70     166          66         7      148     44   \n",
       "1      85    35      64     129          57         6      116     57   \n",
       "2      91    41      84     141          57         9      149     45   \n",
       "3     102    54      98     177          56        10      219     31   \n",
       "4      87    39      74     152          58         6      151     44   \n",
       "..    ...   ...     ...     ...         ...       ...      ...    ...   \n",
       "714   111    58     105     183          51         6      265     26   \n",
       "715    93    43      76     149          57         7      149     44   \n",
       "716    90    42      63     144          59         7      131     50   \n",
       "717   101    56     101     231          72        10      217     31   \n",
       "718    99    38      74     184          66         6      164     39   \n",
       "\n",
       "     Pr.Axis.Rect  Max.L.Rect  Sc.Var.Maxis  Ra.Gyr  Skew.Maxis  Skew.maxis  \\\n",
       "0              19         134           167     143          69           5   \n",
       "1              17         125           138     123          65           1   \n",
       "2              19         143           170     158          72           9   \n",
       "3              25         171           219     223          72           5   \n",
       "4              19         136           174     140          70           1   \n",
       "..            ...         ...           ...     ...         ...         ...   \n",
       "714            29         174           285     255          85           4   \n",
       "715            19         143           172     176          69          14   \n",
       "716            18         142           154     162          65          15   \n",
       "717            24         171           232     216          72           2   \n",
       "718            20         131           193     137          71           2   \n",
       "\n",
       "     Kurt.maxis  Kurt.Maxis  Holl.Ra  \n",
       "0            13         193      201  \n",
       "1            23         196      203  \n",
       "2            14         189      199  \n",
       "3            17         186      196  \n",
       "4            33         187      196  \n",
       "..          ...         ...      ...  \n",
       "714           8         181      183  \n",
       "715           0         189      194  \n",
       "716           3         197      204  \n",
       "717           6         187      197  \n",
       "718          22         200      202  \n",
       "\n",
       "[719 rows x 17 columns]"
      ]
     },
     "execution_count": 14,
     "metadata": {},
     "output_type": "execute_result"
    }
   ],
   "source": [
    "df"
   ]
  },
  {
   "cell_type": "code",
   "execution_count": 15,
   "id": "a05b063c",
   "metadata": {},
   "outputs": [
    {
     "data": {
      "text/plain": [
       "<AxesSubplot:>"
      ]
     },
     "execution_count": 15,
     "metadata": {},
     "output_type": "execute_result"
    },
    {
     "data": {
      "image/png": "[encoded data removed]",
      "text/plain": [
       "<Figure size 640x480 with 1 Axes>"
      ]
     },
     "metadata": {},
     "output_type": "display_data"
    }
   ],
   "source": [
    "sns.boxplot(data = df)"
   ]
  },
  {
   "cell_type": "code",
   "execution_count": 16,
   "id": "d0cf4b83",
   "metadata": {},
   "outputs": [],
   "source": [
    "from sklearn.preprocessing import StandardScaler"
   ]
  },
  {
   "cell_type": "code",
   "execution_count": 17,
   "id": "55136d2b",
   "metadata": {},
   "outputs": [],
   "source": [
    "SS = StandardScaler()\n",
    "dfX = SS.fit_transform(df)"
   ]
  },
  {
   "cell_type": "code",
   "execution_count": 18,
   "id": "6a5e2c38",
   "metadata": {},
   "outputs": [],
   "source": [
    "X = dfX\n",
    "y = data.Class"
   ]
  },
  {
   "cell_type": "code",
   "execution_count": 19,
   "id": "18760dff",
   "metadata": {},
   "outputs": [],
   "source": [
    "from sklearn.model_selection import train_test_split"
   ]
  },
  {
   "cell_type": "code",
   "execution_count": 20,
   "id": "b9bb9ce1",
   "metadata": {},
   "outputs": [],
   "source": [
    "X_train, X_test, y_train, y_test = train_test_split(X, y, test_size=0.2, random_state = 5)"
   ]
  },
  {
   "cell_type": "code",
   "execution_count": 21,
   "id": "ef366c7c",
   "metadata": {},
   "outputs": [
    {
     "name": "stdout",
     "output_type": "stream",
     "text": [
      "(575, 17)\n",
      "(144, 17)\n",
      "(575,)\n",
      "(144,)\n"
     ]
    }
   ],
   "source": [
    "print(X_train.shape)\n",
    "print(X_test.shape)\n",
    "print(y_train.shape)\n",
    "print(y_test.shape)"
   ]
  },
  {
   "cell_type": "code",
   "execution_count": 22,
   "id": "ecfcf2dd",
   "metadata": {},
   "outputs": [],
   "source": [
    "# Apply different Machine Learning techniques"
   ]
  },
  {
   "cell_type": "code",
   "execution_count": 23,
   "id": "2821585e",
   "metadata": {},
   "outputs": [],
   "source": [
    "from sklearn.svm import SVC\n",
    "from sklearn.tree import DecisionTreeClassifier\n",
    "from sklearn.neighbors import KNeighborsClassifier\n",
    "from sklearn.ensemble import RandomForestClassifier\n",
    "from sklearn.ensemble import GradientBoostingClassifier"
   ]
  },
  {
   "cell_type": "code",
   "execution_count": 24,
   "id": "bf49d05e",
   "metadata": {},
   "outputs": [
    {
     "name": "stdout",
     "output_type": "stream",
     "text": [
      "0.8069565217391305\n",
      "0.7013888888888888\n"
     ]
    }
   ],
   "source": [
    "dtc = DecisionTreeClassifier(max_depth = 5, random_state = 1)\n",
    "dtc.fit(X_train, y_train)\n",
    "train_score = dtc.score(X_train, y_train)\n",
    "test_score = dtc.score(X_test, y_test)\n",
    "print(train_score)\n",
    "print(test_score)"
   ]
  },
  {
   "cell_type": "code",
   "execution_count": 25,
   "id": "dfe54132",
   "metadata": {},
   "outputs": [
    {
     "name": "stdout",
     "output_type": "stream",
     "text": [
      "0.8365217391304348\n",
      "0.7361111111111112\n"
     ]
    }
   ],
   "source": [
    "svc = SVC(random_state = 4)\n",
    "svc.fit(X_train, y_train)\n",
    "print(svc.score(X_train, y_train))\n",
    "print(svc.score(X_test, y_test))"
   ]
  },
  {
   "cell_type": "code",
   "execution_count": 26,
   "id": "e45511a1",
   "metadata": {},
   "outputs": [
    {
     "name": "stdout",
     "output_type": "stream",
     "text": [
      "0.9182608695652174\n",
      "0.75\n"
     ]
    }
   ],
   "source": [
    "rfc = RandomForestClassifier(n_estimators = 20, max_depth =6,random_state = 35)\n",
    "rfc.fit(X_train, y_train)\n",
    "print(rfc.score(X_train, y_train))\n",
    "print(rfc.score(X_test, y_test))"
   ]
  },
  {
   "cell_type": "code",
   "execution_count": 27,
   "id": "ad962c4a",
   "metadata": {},
   "outputs": [
    {
     "name": "stdout",
     "output_type": "stream",
     "text": [
      "0.9321739130434783\n",
      "0.7361111111111112\n"
     ]
    }
   ],
   "source": [
    "gbc = GradientBoostingClassifier(n_estimators = 30, learning_rate = 0.1,random_state = 28)\n",
    "gbc.fit(X_train, y_train)\n",
    "print(gbc.score(X_train, y_train))\n",
    "print(gbc.score(X_test, y_test))"
   ]
  },
  {
   "cell_type": "code",
   "execution_count": 28,
   "id": "2d089e45",
   "metadata": {},
   "outputs": [
    {
     "name": "stdout",
     "output_type": "stream",
     "text": [
      "0.8139130434782609\n",
      "0.75\n"
     ]
    },
    {
     "name": "stderr",
     "output_type": "stream",
     "text": [
      "C:\\Users\\bittu\\anaconda3\\lib\\site-packages\\sklearn\\neighbors\\_classification.py:228: FutureWarning: Unlike other reduction functions (e.g. `skew`, `kurtosis`), the default behavior of `mode` typically preserves the axis it acts along. In SciPy 1.11.0, this behavior will change: the default value of `keepdims` will become False, the `axis` over which the statistic is taken will be eliminated, and the value None will no longer be accepted. Set `keepdims` to True or False to avoid this warning.\n",
      "  mode, _ = stats.mode(_y[neigh_ind, k], axis=1)\n",
      "C:\\Users\\bittu\\anaconda3\\lib\\site-packages\\sklearn\\neighbors\\_classification.py:228: FutureWarning: Unlike other reduction functions (e.g. `skew`, `kurtosis`), the default behavior of `mode` typically preserves the axis it acts along. In SciPy 1.11.0, this behavior will change: the default value of `keepdims` will become False, the `axis` over which the statistic is taken will be eliminated, and the value None will no longer be accepted. Set `keepdims` to True or False to avoid this warning.\n",
      "  mode, _ = stats.mode(_y[neigh_ind, k], axis=1)\n"
     ]
    }
   ],
   "source": [
    "knn = KNeighborsClassifier(n_neighbors = 6)\n",
    "knn.fit(X_train, y_train)\n",
    "print(knn.score(X_train, y_train))\n",
    "print(knn.score(X_test, y_test))"
   ]
  },
  {
   "cell_type": "code",
   "execution_count": 29,
   "id": "57d79b3d",
   "metadata": {},
   "outputs": [],
   "source": [
    "# select KNeighborsClassifier as the final model.\n",
    "final_model = knn"
   ]
  },
  {
   "cell_type": "code",
   "execution_count": 30,
   "id": "1b53c3ce",
   "metadata": {},
   "outputs": [
    {
     "name": "stderr",
     "output_type": "stream",
     "text": [
      "C:\\Users\\bittu\\anaconda3\\lib\\site-packages\\sklearn\\neighbors\\_classification.py:228: FutureWarning: Unlike other reduction functions (e.g. `skew`, `kurtosis`), the default behavior of `mode` typically preserves the axis it acts along. In SciPy 1.11.0, this behavior will change: the default value of `keepdims` will become False, the `axis` over which the statistic is taken will be eliminated, and the value None will no longer be accepted. Set `keepdims` to True or False to avoid this warning.\n",
      "  mode, _ = stats.mode(_y[neigh_ind, k], axis=1)\n"
     ]
    }
   ],
   "source": [
    "y_pred = final_model.predict(X_test)"
   ]
  },
  {
   "cell_type": "code",
   "execution_count": 31,
   "id": "4ee8ec93",
   "metadata": {},
   "outputs": [],
   "source": [
    "from sklearn.metrics import accuracy_score, f1_score, plot_confusion_matrix"
   ]
  },
  {
   "cell_type": "code",
   "execution_count": 32,
   "id": "987fcbd9",
   "metadata": {},
   "outputs": [
    {
     "data": {
      "text/plain": [
       "0.75"
      ]
     },
     "execution_count": 32,
     "metadata": {},
     "output_type": "execute_result"
    }
   ],
   "source": [
    "accuracy_score(y_test, y_pred)"
   ]
  },
  {
   "cell_type": "code",
   "execution_count": 33,
   "id": "b0f555a5",
   "metadata": {},
   "outputs": [
    {
     "data": {
      "text/plain": [
       "0.7514871721020915"
      ]
     },
     "execution_count": 33,
     "metadata": {},
     "output_type": "execute_result"
    }
   ],
   "source": [
    "f1_score(y_test,y_pred, average = 'macro')"
   ]
  },
  {
   "cell_type": "code",
   "execution_count": 34,
   "id": "bea9ed86",
   "metadata": {},
   "outputs": [
    {
     "name": "stderr",
     "output_type": "stream",
     "text": [
      "C:\\Users\\bittu\\anaconda3\\lib\\site-packages\\sklearn\\utils\\deprecation.py:87: FutureWarning: Function plot_confusion_matrix is deprecated; Function `plot_confusion_matrix` is deprecated in 1.0 and will be removed in 1.2. Use one of the class methods: ConfusionMatrixDisplay.from_predictions or ConfusionMatrixDisplay.from_estimator.\n",
      "  warnings.warn(msg, category=FutureWarning)\n",
      "C:\\Users\\bittu\\anaconda3\\lib\\site-packages\\sklearn\\neighbors\\_classification.py:228: FutureWarning: Unlike other reduction functions (e.g. `skew`, `kurtosis`), the default behavior of `mode` typically preserves the axis it acts along. In SciPy 1.11.0, this behavior will change: the default value of `keepdims` will become False, the `axis` over which the statistic is taken will be eliminated, and the value None will no longer be accepted. Set `keepdims` to True or False to avoid this warning.\n",
      "  mode, _ = stats.mode(_y[neigh_ind, k], axis=1)\n"
     ]
    },
    {
     "data": {
      "image/png": "[encoded data removed]",
      "text/plain": [
       "<Figure size 640x480 with 2 Axes>"
      ]
     },
     "metadata": {},
     "output_type": "display_data"
    }
   ],
   "source": [
    "plot_confusion_matrix(final_model, X_test, y_test);"
   ]
  }
 ],
 "metadata": {
  "kernelspec": {
   "display_name": "Python 3 (ipykernel)",
   "language": "python",
   "name": "python3"
  },
  "language_info": {
   "codemirror_mode": {
    "name": "ipython",
    "version": 3
   },
   "file_extension": ".py",
   "mimetype": "text/x-python",
   "name": "python",
   "nbconvert_exporter": "python",
   "pygments_lexer": "ipython3",
   "version": "3.9.13"
  }
 },
 "nbformat": 4,
 "nbformat_minor": 5
}
